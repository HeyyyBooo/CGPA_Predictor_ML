{
 "cells": [
  {
   "cell_type": "code",
   "execution_count": 1,
   "id": "6dcb768c",
   "metadata": {},
   "outputs": [],
   "source": [
    "import numpy as np\n",
    "import pandas as pd\n",
    "import matplotlib.pyplot as plt"
   ]
  },
  {
   "cell_type": "code",
   "execution_count": 4,
   "id": "075a1d08",
   "metadata": {},
   "outputs": [],
   "source": [
    "dataset = pd.read_csv('student.csv')\n",
    "X = dataset.iloc[:, :-1].values\n",
    "y = dataset.iloc[:, -1].values"
   ]
  },
  {
   "cell_type": "code",
   "execution_count": 5,
   "id": "5dc12323",
   "metadata": {},
   "outputs": [
    {
     "name": "stdout",
     "output_type": "stream",
     "text": [
      "[[6.83 1.   0.  ]\n",
      " [6.56 2.   0.  ]\n",
      " [4.3  2.   0.  ]\n",
      " [5.67 4.   0.  ]\n",
      " [8.67 2.   0.  ]\n",
      " [7.55 3.   0.  ]\n",
      " [6.67 2.   0.  ]\n",
      " [8.99 1.   0.  ]\n",
      " [5.19 4.   1.  ]\n",
      " [6.75 3.   0.  ]\n",
      " [6.59 2.   1.  ]\n",
      " [8.56 3.   0.  ]\n",
      " [7.75 2.   0.  ]\n",
      " [7.9  1.   1.  ]\n",
      " [8.19 1.   0.  ]\n",
      " [6.55 2.   1.  ]\n",
      " [6.36 3.   0.  ]\n",
      " [8.44 2.   0.  ]\n",
      " [8.41 1.   0.  ]\n",
      " [7.67 2.   0.  ]\n",
      " [7.42 2.   0.  ]\n",
      " [8.16 2.   0.  ]\n",
      " [5.05 4.   1.  ]\n",
      " [5.85 2.   0.  ]\n",
      " [5.45 3.   1.  ]\n",
      " [7.96 1.   0.  ]\n",
      " [6.51 2.   0.  ]\n",
      " [6.73 2.   0.  ]\n",
      " [5.94 4.   0.  ]\n",
      " [7.48 2.   0.  ]\n",
      " [8.13 3.   1.  ]\n",
      " [6.67 3.   0.  ]\n",
      " [5.4  5.   0.  ]\n",
      " [8.78 2.   1.  ]\n",
      " [8.72 2.   0.  ]\n",
      " [7.1  1.   0.  ]\n",
      " [7.86 2.   0.  ]\n",
      " [7.19 4.   1.  ]\n",
      " [5.62 4.   0.  ]\n",
      " [7.88 2.   0.  ]\n",
      " [5.28 3.   1.  ]\n",
      " [8.92 2.   0.  ]\n",
      " [5.46 3.   1.  ]\n",
      " [8.3  2.   0.  ]\n",
      " [8.09 1.   0.  ]\n",
      " [6.18 2.   0.  ]\n",
      " [7.01 3.   0.  ]\n",
      " [5.01 1.   0.  ]\n",
      " [5.54 3.   0.  ]\n",
      " [5.09 1.   0.  ]\n",
      " [5.09 2.   0.  ]\n",
      " [7.31 1.   0.  ]\n",
      " [8.71 3.   0.  ]\n",
      " [5.52 1.   0.  ]\n",
      " [8.76 3.   0.  ]\n",
      " [8.69 2.   0.  ]\n",
      " [5.75 1.   1.  ]\n",
      " [8.93 1.   0.  ]\n",
      " [5.39 1.   1.  ]\n",
      " [5.65 2.   0.  ]\n",
      " [5.49 2.   0.  ]\n",
      " [7.26 3.   0.  ]\n",
      " [6.35 2.   0.  ]\n",
      " [7.72 2.   0.  ]\n",
      " [8.88 1.   0.  ]\n",
      " [5.45 2.   0.  ]\n",
      " [7.86 1.   0.  ]\n",
      " [8.26 2.   0.  ]\n",
      " [5.07 3.   0.  ]\n",
      " [8.25 2.   0.  ]\n",
      " [5.37 1.   0.  ]\n",
      " [5.11 2.   0.  ]\n",
      " [6.35 3.   0.  ]\n",
      " [7.41 2.   0.  ]\n",
      " [7.31 1.   0.  ]\n",
      " [6.04 4.   1.  ]\n",
      " [5.11 1.   0.  ]\n",
      " [6.56 2.   0.  ]\n",
      " [5.09 3.   0.  ]\n",
      " [5.88 1.   0.  ]\n",
      " [8.34 3.   0.  ]\n",
      " [7.94 1.   0.  ]\n",
      " [6.66 3.   0.  ]\n",
      " [6.01 1.   0.  ]\n",
      " [6.88 3.   1.  ]\n",
      " [5.63 2.   0.  ]\n",
      " [5.88 2.   0.  ]\n",
      " [8.05 2.   0.  ]\n",
      " [5.33 1.   0.  ]\n",
      " [8.79 2.   0.  ]\n",
      " [7.52 3.   0.  ]\n",
      " [8.2  2.   0.  ]\n",
      " [5.44 1.   0.  ]\n",
      " [7.9  2.   0.  ]\n",
      " [7.69 3.   0.  ]\n",
      " [6.09 2.   0.  ]\n",
      " [8.76 1.   1.  ]\n",
      " [5.2  1.   0.  ]\n",
      " [8.88 2.   0.  ]\n",
      " [8.07 3.   0.  ]\n",
      " [6.24 2.   0.  ]\n",
      " [7.95 1.   0.  ]\n",
      " [8.26 2.   0.  ]\n",
      " [7.31 2.   0.  ]\n",
      " [7.23 2.   0.  ]\n",
      " [6.46 1.   0.  ]\n",
      " [5.34 2.   1.  ]\n",
      " [5.72 3.   1.  ]\n",
      " [5.84 2.   0.  ]\n",
      " [5.02 2.   0.  ]\n",
      " [7.98 1.   0.  ]\n",
      " [6.37 1.   0.  ]\n",
      " [6.92 2.   0.  ]\n",
      " [7.95 3.   0.  ]\n",
      " [7.12 2.   0.  ]\n",
      " [5.79 1.   0.  ]\n",
      " [5.4  2.   0.  ]\n",
      " [8.83 2.   0.  ]\n",
      " [5.69 1.   0.  ]\n",
      " [6.6  2.   0.  ]\n",
      " [6.52 1.   0.  ]\n",
      " [8.31 3.   0.  ]\n",
      " [5.76 3.   0.  ]\n",
      " [7.62 3.   0.  ]\n",
      " [8.69 1.   0.  ]\n",
      " [8.75 2.   0.  ]\n",
      " [6.46 3.   1.  ]\n",
      " [7.14 1.   0.  ]\n",
      " [6.38 2.   0.  ]\n",
      " [6.33 2.   0.  ]\n",
      " [5.64 1.   0.  ]\n",
      " [5.26 2.   1.  ]\n",
      " [6.83 2.   0.  ]\n",
      " [5.76 1.   0.  ]\n",
      " [6.51 1.   0.  ]\n",
      " [8.33 3.   1.  ]\n",
      " [8.16 2.   0.  ]\n",
      " [5.14 1.   0.  ]\n",
      " [8.71 1.   0.  ]\n",
      " [8.6  1.   0.  ]\n",
      " [8.6  2.   0.  ]\n",
      " [7.43 1.   0.  ]\n",
      " [7.81 2.   0.  ]\n",
      " [6.51 1.   0.  ]\n",
      " [8.11 3.   0.  ]\n",
      " [8.95 2.   0.  ]\n",
      " [7.99 1.   0.  ]\n",
      " [5.92 1.   0.  ]\n",
      " [8.3  2.   0.  ]\n",
      " [8.97 1.   0.  ]\n",
      " [5.39 4.   1.  ]\n",
      " [6.77 5.   0.  ]\n",
      " [8.08 1.   0.  ]\n",
      " [5.24 2.   0.  ]\n",
      " [6.93 1.   0.  ]\n",
      " [5.14 2.   0.  ]\n",
      " [8.39 1.   0.  ]\n",
      " [6.18 2.   0.  ]\n",
      " [7.53 3.   0.  ]\n",
      " [7.86 1.   0.  ]\n",
      " [7.7  1.   0.  ]\n",
      " [7.3  1.   0.  ]\n",
      " [7.79 1.   0.  ]\n",
      " [6.75 2.   0.  ]\n",
      " [7.87 1.   0.  ]\n",
      " [5.38 2.   1.  ]\n",
      " [7.8  1.   0.  ]\n",
      " [5.07 2.   0.  ]\n",
      " [7.95 1.   0.  ]\n",
      " [8.35 1.   0.  ]\n",
      " [5.19 2.   1.  ]\n",
      " [7.19 1.   0.  ]\n",
      " [7.35 1.   0.  ]\n",
      " [5.22 3.   1.  ]\n",
      " [5.39 2.   0.  ]\n",
      " [5.39 1.   0.  ]\n",
      " [8.93 2.   0.  ]\n",
      " [5.79 1.   0.  ]\n",
      " [8.42 1.   0.  ]\n",
      " [7.26 1.   0.  ]\n",
      " [6.97 2.   0.  ]\n",
      " [5.55 1.   0.  ]\n",
      " [8.66 1.   0.  ]\n",
      " [8.61 2.   0.  ]\n",
      " [5.22 1.   0.  ]\n",
      " [8.05 1.   0.  ]\n",
      " [8.87 2.   0.  ]\n",
      " [5.54 1.   0.  ]\n",
      " [6.4  1.   1.  ]\n",
      " [7.26 2.   0.  ]\n",
      " [5.79 1.   0.  ]\n",
      " [5.22 1.   0.  ]\n",
      " [8.71 2.   0.  ]\n",
      " [7.55 1.   0.  ]\n",
      " [6.35 1.   0.  ]\n",
      " [7.53 2.   0.  ]\n",
      " [8.56 2.   0.  ]\n",
      " [8.94 3.   0.  ]\n",
      " [6.6  1.   0.  ]\n",
      " [8.35 1.   0.  ]]\n"
     ]
    }
   ],
   "source": [
    "print(X)"
   ]
  },
  {
   "cell_type": "code",
   "execution_count": 6,
   "id": "aca56faf",
   "metadata": {},
   "outputs": [],
   "source": [
    "from sklearn.model_selection import train_test_split\n",
    "X_train, X_test, y_train, y_test = train_test_split(X, y, test_size = 0.1, random_state = 0)"
   ]
  },
  {
   "cell_type": "code",
   "execution_count": 7,
   "id": "a5806878",
   "metadata": {},
   "outputs": [
    {
     "data": {
      "text/html": [
       "<style>#sk-container-id-1 {color: black;}#sk-container-id-1 pre{padding: 0;}#sk-container-id-1 div.sk-toggleable {background-color: white;}#sk-container-id-1 label.sk-toggleable__label {cursor: pointer;display: block;width: 100%;margin-bottom: 0;padding: 0.3em;box-sizing: border-box;text-align: center;}#sk-container-id-1 label.sk-toggleable__label-arrow:before {content: \"▸\";float: left;margin-right: 0.25em;color: #696969;}#sk-container-id-1 label.sk-toggleable__label-arrow:hover:before {color: black;}#sk-container-id-1 div.sk-estimator:hover label.sk-toggleable__label-arrow:before {color: black;}#sk-container-id-1 div.sk-toggleable__content {max-height: 0;max-width: 0;overflow: hidden;text-align: left;background-color: #f0f8ff;}#sk-container-id-1 div.sk-toggleable__content pre {margin: 0.2em;color: black;border-radius: 0.25em;background-color: #f0f8ff;}#sk-container-id-1 input.sk-toggleable__control:checked~div.sk-toggleable__content {max-height: 200px;max-width: 100%;overflow: auto;}#sk-container-id-1 input.sk-toggleable__control:checked~label.sk-toggleable__label-arrow:before {content: \"▾\";}#sk-container-id-1 div.sk-estimator input.sk-toggleable__control:checked~label.sk-toggleable__label {background-color: #d4ebff;}#sk-container-id-1 div.sk-label input.sk-toggleable__control:checked~label.sk-toggleable__label {background-color: #d4ebff;}#sk-container-id-1 input.sk-hidden--visually {border: 0;clip: rect(1px 1px 1px 1px);clip: rect(1px, 1px, 1px, 1px);height: 1px;margin: -1px;overflow: hidden;padding: 0;position: absolute;width: 1px;}#sk-container-id-1 div.sk-estimator {font-family: monospace;background-color: #f0f8ff;border: 1px dotted black;border-radius: 0.25em;box-sizing: border-box;margin-bottom: 0.5em;}#sk-container-id-1 div.sk-estimator:hover {background-color: #d4ebff;}#sk-container-id-1 div.sk-parallel-item::after {content: \"\";width: 100%;border-bottom: 1px solid gray;flex-grow: 1;}#sk-container-id-1 div.sk-label:hover label.sk-toggleable__label {background-color: #d4ebff;}#sk-container-id-1 div.sk-serial::before {content: \"\";position: absolute;border-left: 1px solid gray;box-sizing: border-box;top: 0;bottom: 0;left: 50%;z-index: 0;}#sk-container-id-1 div.sk-serial {display: flex;flex-direction: column;align-items: center;background-color: white;padding-right: 0.2em;padding-left: 0.2em;position: relative;}#sk-container-id-1 div.sk-item {position: relative;z-index: 1;}#sk-container-id-1 div.sk-parallel {display: flex;align-items: stretch;justify-content: center;background-color: white;position: relative;}#sk-container-id-1 div.sk-item::before, #sk-container-id-1 div.sk-parallel-item::before {content: \"\";position: absolute;border-left: 1px solid gray;box-sizing: border-box;top: 0;bottom: 0;left: 50%;z-index: -1;}#sk-container-id-1 div.sk-parallel-item {display: flex;flex-direction: column;z-index: 1;position: relative;background-color: white;}#sk-container-id-1 div.sk-parallel-item:first-child::after {align-self: flex-end;width: 50%;}#sk-container-id-1 div.sk-parallel-item:last-child::after {align-self: flex-start;width: 50%;}#sk-container-id-1 div.sk-parallel-item:only-child::after {width: 0;}#sk-container-id-1 div.sk-dashed-wrapped {border: 1px dashed gray;margin: 0 0.4em 0.5em 0.4em;box-sizing: border-box;padding-bottom: 0.4em;background-color: white;}#sk-container-id-1 div.sk-label label {font-family: monospace;font-weight: bold;display: inline-block;line-height: 1.2em;}#sk-container-id-1 div.sk-label-container {text-align: center;}#sk-container-id-1 div.sk-container {/* jupyter's `normalize.less` sets `[hidden] { display: none; }` but bootstrap.min.css set `[hidden] { display: none !important; }` so we also need the `!important` here to be able to override the default hidden behavior on the sphinx rendered scikit-learn.org. See: https://github.com/scikit-learn/scikit-learn/issues/21755 */display: inline-block !important;position: relative;}#sk-container-id-1 div.sk-text-repr-fallback {display: none;}</style><div id=\"sk-container-id-1\" class=\"sk-top-container\"><div class=\"sk-text-repr-fallback\"><pre>LinearRegression()</pre><b>In a Jupyter environment, please rerun this cell to show the HTML representation or trust the notebook. <br />On GitHub, the HTML representation is unable to render, please try loading this page with nbviewer.org.</b></div><div class=\"sk-container\" hidden><div class=\"sk-item\"><div class=\"sk-estimator sk-toggleable\"><input class=\"sk-toggleable__control sk-hidden--visually\" id=\"sk-estimator-id-1\" type=\"checkbox\" checked><label for=\"sk-estimator-id-1\" class=\"sk-toggleable__label sk-toggleable__label-arrow\">LinearRegression</label><div class=\"sk-toggleable__content\"><pre>LinearRegression()</pre></div></div></div></div></div>"
      ],
      "text/plain": [
       "LinearRegression()"
      ]
     },
     "execution_count": 7,
     "metadata": {},
     "output_type": "execute_result"
    }
   ],
   "source": [
    "from sklearn.linear_model import LinearRegression\n",
    "regressor = LinearRegression()\n",
    "regressor.fit(X_train, y_train)"
   ]
  },
  {
   "cell_type": "code",
   "execution_count": 8,
   "id": "c9f3e282",
   "metadata": {},
   "outputs": [
    {
     "name": "stdout",
     "output_type": "stream",
     "text": [
      "[[7.82 7.75]\n",
      " [6.53 6.62]\n",
      " [6.78 6.83]\n",
      " [8.04 7.87]\n",
      " [6.84 6.87]\n",
      " [7.91 8.2 ]\n",
      " [7.58 7.62]\n",
      " [7.66 7.78]\n",
      " [7.62 7.45]\n",
      " [7.7  7.67]\n",
      " [7.47 7.44]\n",
      " [7.99 8.1 ]\n",
      " [7.32 7.22]\n",
      " [7.27 7.35]\n",
      " [7.88 7.9 ]\n",
      " [8.04 8.05]\n",
      " [7.88 7.94]\n",
      " [6.78 6.82]\n",
      " [7.37 7.32]\n",
      " [7.41 7.26]]\n"
     ]
    }
   ],
   "source": [
    "y_pred = regressor.predict(X_test)\n",
    "np.set_printoptions(precision=2)\n",
    "print(np.concatenate((y_pred.reshape(len(y_pred),1), y_test.reshape(len(y_test),1)),1))"
   ]
  },
  {
   "cell_type": "code",
   "execution_count": 9,
   "id": "6cd71d97",
   "metadata": {},
   "outputs": [
    {
     "data": {
      "text/plain": [
       "['cgpa_predictor.pkl']"
      ]
     },
     "execution_count": 9,
     "metadata": {},
     "output_type": "execute_result"
    }
   ],
   "source": [
    "import joblib\n",
    "joblib.dump(regressor, \"cgpa_predictor.pkl\")"
   ]
  },
  {
   "cell_type": "code",
   "execution_count": 10,
   "id": "8524c7a9",
   "metadata": {},
   "outputs": [],
   "source": [
    "model = joblib.load(\"cgpa_predictor.pkl\")"
   ]
  },
  {
   "cell_type": "code",
   "execution_count": 11,
   "id": "848c0ee1",
   "metadata": {},
   "outputs": [
    {
     "name": "stdout",
     "output_type": "stream",
     "text": [
      "[[8.41 1.   0.  ]\n",
      " [5.19 2.   1.  ]\n",
      " [5.72 3.   1.  ]\n",
      " [8.88 2.   0.  ]\n",
      " [5.79 1.   0.  ]\n",
      " [8.66 1.   0.  ]\n",
      " [7.55 3.   0.  ]\n",
      " [7.99 1.   0.  ]\n",
      " [7.75 2.   0.  ]\n",
      " [8.08 1.   0.  ]\n",
      " [7.26 3.   0.  ]\n",
      " [8.75 2.   0.  ]\n",
      " [6.97 2.   0.  ]\n",
      " [6.93 1.   0.  ]\n",
      " [8.34 3.   0.  ]\n",
      " [8.99 1.   0.  ]\n",
      " [8.78 2.   1.  ]\n",
      " [5.64 1.   0.  ]\n",
      " [7.19 4.   1.  ]\n",
      " [7.31 1.   0.  ]]\n"
     ]
    }
   ],
   "source": [
    "print(X_test)"
   ]
  },
  {
   "cell_type": "code",
   "execution_count": 12,
   "id": "da04fa0f",
   "metadata": {},
   "outputs": [
    {
     "data": {
      "text/plain": [
       "array([7.95])"
      ]
     },
     "execution_count": 12,
     "metadata": {},
     "output_type": "execute_result"
    }
   ],
   "source": [
    "model.predict([[9.08,1,1]])"
   ]
  },
  {
   "cell_type": "code",
   "execution_count": 13,
   "id": "e5941e6c",
   "metadata": {},
   "outputs": [
    {
     "data": {
      "text/plain": [
       "array([4.95])"
      ]
     },
     "execution_count": 13,
     "metadata": {},
     "output_type": "execute_result"
    }
   ],
   "source": [
    "model.predict([[1.08,1,1]])"
   ]
  },
  {
   "cell_type": "code",
   "execution_count": null,
   "id": "f412903f",
   "metadata": {},
   "outputs": [],
   "source": []
  }
 ],
 "metadata": {
  "kernelspec": {
   "display_name": "Python 3 (ipykernel)",
   "language": "python",
   "name": "python3"
  },
  "language_info": {
   "codemirror_mode": {
    "name": "ipython",
    "version": 3
   },
   "file_extension": ".py",
   "mimetype": "text/x-python",
   "name": "python",
   "nbconvert_exporter": "python",
   "pygments_lexer": "ipython3",
   "version": "3.11.5"
  }
 },
 "nbformat": 4,
 "nbformat_minor": 5
}
